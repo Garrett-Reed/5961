{
  "nbformat": 4,
  "nbformat_minor": 0,
  "metadata": {
    "colab": {
      "provenance": [],
      "authorship_tag": "ABX9TyMepwIiCyla+eRNK9RN5ilo",
      "include_colab_link": true
    },
    "kernelspec": {
      "name": "python3",
      "display_name": "Python 3"
    },
    "language_info": {
      "name": "python"
    }
  },
  "cells": [
    {
      "cell_type": "markdown",
      "metadata": {
        "id": "view-in-github",
        "colab_type": "text"
      },
      "source": [
        "<a href=\"https://colab.research.google.com/github/Garrett-Reed/5961/blob/main/Model-1.ipynb\" target=\"_parent\"><img src=\"https://colab.research.google.com/assets/colab-badge.svg\" alt=\"Open In Colab\"/></a>"
      ]
    },
    {
      "cell_type": "code",
      "source": [
        "import pandas as pd\n",
        "import numpy as np\n",
        "from sklearn.model_selection import train_test_split\n",
        "from sklearn.ensemble import RandomForestClassifier\n",
        "from sklearn.preprocessing import LabelEncoder\n",
        "from sklearn.metrics import accuracy_score\n",
        "\n",
        "file_path = '/mnt/data/Training Data.csv'\n",
        "data = pd.read_csv('Training Data.csv')\n",
        "\n",
        "# Preprocessing: Convert 'Game Date' to ordinal and encode categorical features\n",
        "data['Game Date'] = pd.to_datetime(data['Game Date']).apply(lambda x: x.toordinal())\n",
        "data['Position'] = data['Position'].astype('category').cat.codes\n",
        "\n",
        "# Encode target variable ('Player') using LabelEncoder\n",
        "le = LabelEncoder()\n",
        "data['Player'] = le.fit_transform(data['Player'])\n",
        "\n",
        "# Define time intervals\n",
        "time_intervals = [(1, 45), (46, 70), (71, 90)]\n",
        "\n",
        "# Results dictionary to store the best player for each position and time interval\n",
        "results = {}\n",
        "\n",
        "# Iterate over each position\n",
        "for position in data['Position'].unique():\n",
        "    position_data = data[data['Position'] == position]  # Filter by position\n",
        "\n",
        "    # Iterate over each time interval\n",
        "    for start, end in time_intervals:\n",
        "        interval_data = position_data[\n",
        "            (position_data['Game Time'] >= start) & (position_data['Game Time'] <= end)\n",
        "        ]  # Filter by time interval\n",
        "\n",
        "        # Check if there is enough data for training\n",
        "        if len(interval_data) < 10:  # Arbitrary threshold to ensure enough samples\n",
        "            continue\n",
        "\n",
        "        # Features (X) and target (y)\n",
        "        X = interval_data[['Game Date', 'On Field', 'Team Goal Scored']]\n",
        "        y = interval_data['Player']\n",
        "\n",
        "        # Split data into training and testing sets\n",
        "        X_train, X_test, y_train, y_test = train_test_split(X, y, test_size=0.2, random_state=42)\n",
        "\n",
        "        # Train the model\n",
        "        model = RandomForestClassifier(random_state=42)\n",
        "        model.fit(X_train, y_train)\n",
        "\n",
        "        # Predict probabilities on the test set\n",
        "        probas = model.predict_proba(X_test)\n",
        "\n",
        "        # Identify the best player (highest average probability)\n",
        "        avg_probas = probas.mean(axis=0)\n",
        "        best_player_index = np.argmax(avg_probas)\n",
        "        best_player_name = le.inverse_transform([best_player_index])[0]\n",
        "\n",
        "        # Store the result\n",
        "        results[(position, f\"{start}-{end}\")] = {\n",
        "            'Best Player': best_player_name,\n",
        "            'Accuracy': accuracy_score(y_test, model.predict(X_test))\n",
        "        }\n",
        "\n",
        "# Display the results\n",
        "print(\"Best Player for Each Position and Time Interval:\")\n",
        "for (position, time_interval), result in results.items():\n",
        "    print(f\"Position {position}, Time Interval {time_interval}: Best Player - {result['Best Player']} (Accuracy: {result['Accuracy']:.2f})\")\n"
      ],
      "metadata": {
        "colab": {
          "base_uri": "https://localhost:8080/"
        },
        "id": "LuXi4ef0jhJM",
        "outputId": "d45ff8d8-403b-4a50-baee-d1ea624410df"
      },
      "execution_count": 4,
      "outputs": [
        {
          "output_type": "stream",
          "name": "stderr",
          "text": [
            "<ipython-input-4-9d8e30f8c47a>:13: UserWarning: Could not infer format, so each element will be parsed individually, falling back to `dateutil`. To ensure parsing is consistent and as-expected, please specify a format.\n",
            "  data['Game Date'] = pd.to_datetime(data['Game Date']).apply(lambda x: x.toordinal())\n"
          ]
        },
        {
          "output_type": "stream",
          "name": "stdout",
          "text": [
            "Best Player for Each Position and Time Interval:\n",
            "Position 0, Time Interval 1-45: Best Player - Aziel Jackson (Accuracy: 0.63)\n",
            "Position 0, Time Interval 46-70: Best Player - Aziel Jackson (Accuracy: 0.58)\n",
            "Position 0, Time Interval 71-90: Best Player - Jannes Horn (Accuracy: 0.86)\n",
            "Position 1, Time Interval 1-45: Best Player - Hosei Kijima (Accuracy: 0.55)\n",
            "Position 1, Time Interval 46-70: Best Player - Hosei Kijima (Accuracy: 0.69)\n",
            "Position 1, Time Interval 71-90: Best Player - Hosei Kijima (Accuracy: 0.75)\n",
            "Position 2, Time Interval 1-45: Best Player - Aziel Jackson (Accuracy: 0.60)\n",
            "Position 2, Time Interval 46-70: Best Player - Aziel Jackson (Accuracy: 0.62)\n",
            "Position 2, Time Interval 71-90: Best Player - Aziel Jackson (Accuracy: 0.69)\n"
          ]
        }
      ]
    },
    {
      "cell_type": "code",
      "source": [],
      "metadata": {
        "id": "BHwQhZnUkt6b"
      },
      "execution_count": null,
      "outputs": []
    }
  ]
}